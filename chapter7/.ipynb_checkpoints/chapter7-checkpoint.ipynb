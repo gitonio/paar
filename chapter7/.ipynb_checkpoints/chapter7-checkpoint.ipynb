{
 "cells": [
  {
   "cell_type": "markdown",
   "metadata": {},
   "source": [
    "## Chapter 7<br>\n",
    "### RSA<br>\n",
    "#### 7.1<br>\n"
   ]
  },
  {
   "cell_type": "code",
   "execution_count": 3,
   "metadata": {},
   "outputs": [],
   "source": [
    "const clearModule = require('clear-module')"
   ]
  },
  {
   "cell_type": "code",
   "execution_count": 13,
   "metadata": {},
   "outputs": [
    {
     "name": "stdout",
     "output_type": "stream",
     "text": [
      "Phi 640\n",
      "d = 32, it should be 1\n",
      "d = 1, it should be 1\n",
      "   r0    r1     q    s0    t0\n",
      "   49     3    13     0     1\n",
      "    3     1    16     1   -13\n",
      "    1     0     3   -16   209\n",
      "209\n"
     ]
    }
   ],
   "source": [
    "// 7.1.1\n",
    "clearModule.all()\n",
    "gcd = require('../gcd.js')\n",
    "p = 41;\n",
    "q = 17;\n",
    "n = p * q;\n",
    "e1 = 32;\n",
    "e2 = 49;\n",
    "phin = gcd.phi(n)\n",
    "console.log('Phi', phin)\n",
    "d = gcd.gcdr(phin,e1)\n",
    "console.log(`d = ${d}, it should be 1`)\n",
    "d = gcd.gcdr(phin,e2)\n",
    "console.log(`d = ${d}, it should be 1`)\n",
    "\n",
    "// 7.1.2\n",
    "d = gcd.gcd(phin, e2)\n",
    "console.log(d)"
   ]
  },
  {
   "cell_type": "code",
   "execution_count": 17,
   "metadata": {},
   "outputs": [
    {
     "name": "stdout",
     "output_type": "stream",
     "text": [
      "42\n",
      "15\n",
      "1 'y' 4 'sq' '10'\n",
      "1 'y' 8 'mul' '11'\n",
      "2 'y' 64 'sq' '110'\n",
      "3 'y' 4096 'sq' '1100'\n",
      "3 'y' 8192 'mul' '1101'\n",
      "4 'y' 67108864 'sq' '11010'\n",
      "1 'y' 4 'sq' '10'\n",
      "2 'y' 16 'sq' '100'\n",
      "3 'y' 54 'sq' '1000'\n",
      "3 'y' 7 'mul' '1001'\n",
      "4 'y' 49 'sq' '10010'\n",
      "4 'y' 98 'mul' '10011'\n",
      "5 'y' 9 'sq' '100110'\n",
      "5 'y' 18 'mul' '100111'\n",
      "6 'y' 21 'sq' '1001110'\n",
      "6 'y' 42 'mul' '1001111'\n",
      "1 'y' 9 'sq' '10'\n",
      "1 'y' 27 'mul' '11'\n",
      "2 'y' 22 'sq' '110'\n",
      "3 'y' 80 'sq' '1100'\n",
      "4 'y' 37 'sq' '11000'\n",
      "5 'y' 56 'sq' '110000'\n",
      "5 'y' 67 'mul' '110001'\n",
      "6 'y' 45 'sq' '1100010'\n",
      "7 'y' 5 'sq' '11000100'\n",
      "7 'y' 15 'mul' '11000101'\n"
     ]
    },
    {
     "data": {
      "text/plain": [
       "197"
      ]
     },
     "execution_count": 17,
     "metadata": {},
     "output_type": "execute_result"
    }
   ],
   "source": [
    "// 7.2.1\n",
    "\n",
    "BN = require('bn.js')\n",
    "function dec2bin(number) {\n",
    "    let bin = '';\n",
    "    while(number > 0) {\n",
    "          bin = number%2 + bin;\n",
    "          number = Math.floor(number/2);\n",
    "          }\n",
    "    return bin;\n",
    "}\n",
    "\n",
    "function bin2dec(bstr) { \n",
    "    return parseInt((bstr + '')\n",
    "    .replace(/[^01]/gi, ''), 2);\n",
    "}\n",
    "// 7.2\n",
    "x = new BN(2)\n",
    "e = new BN(79)\n",
    "m = new BN(101)\n",
    "\n",
    "console.log(x.pow(e).mod(m).toNumber(10))\n",
    "\n",
    "x = new BN(3)\n",
    "e = new BN(197)\n",
    "m = new BN(101)\n",
    "\n",
    "console.log(x.pow(e).mod(m).toNumber(10))\n",
    "\n",
    "map = Array.prototype.map;\n",
    "\n",
    "exp = 26\n",
    "var a = map.call(dec2bin(exp), (x,i) => {\n",
    "    //console.log(x,i)\n",
    "    //y = y + x\n",
    "    //console.log(y)\n",
    "    \n",
    "    if (i==0) {\n",
    "        y = new BN(2)\n",
    "        e = x\n",
    "        return y\n",
    "    }\n",
    "\n",
    "    y = y.pow(new BN(2))\n",
    "    e = dec2bin(bin2dec(e) * 2)\n",
    "    console.log(i, 'y',y.toNumber(10), 'sq', e)\n",
    "    if (x=='0') {\n",
    "        //y = y.pow(new BN())\n",
    "        //return 'SQ'\n",
    "        \n",
    "        return y\n",
    "    } else {\n",
    "        e = dec2bin(bin2dec(e) + 1)\n",
    "        y = y.muln(2)\n",
    "        console.log(i, 'y',y.toNumber(10), 'mul', e)\n",
    "        return y\n",
    "    }\n",
    "})\n",
    "\n",
    "//console.log(a[6].toNumber(10))\n",
    "exp = 79\n",
    "var a = map.call(dec2bin(exp), (x,i) => {\n",
    "    \n",
    "    if (i==0) {\n",
    "        y = new BN(2)\n",
    "        e = x\n",
    "        return y\n",
    "    }\n",
    "\n",
    "    y = y.pow(new BN(2)).mod(new BN(101))\n",
    "    e = dec2bin(bin2dec(e) * 2)\n",
    "    console.log(i, 'y',y.toNumber(10), 'sq', e)\n",
    "    if (x=='0') {\n",
    "        return y\n",
    "    } else {\n",
    "        e = dec2bin(bin2dec(e) + 1)\n",
    "        y = y.muln(2).mod(new BN(101))\n",
    "        console.log(i, 'y',y.toNumber(10), 'mul', e)\n",
    "        return y\n",
    "    }\n",
    "})\n",
    "\n",
    "// 7.2.2\n",
    "\n",
    "exp = 197\n",
    "var a = map.call(dec2bin(exp), (x,i) => {\n",
    "    \n",
    "    if (i==0) {\n",
    "        y = new BN(3)\n",
    "        e = x\n",
    "        return y\n",
    "    }\n",
    "\n",
    "    y = y.pow(new BN(2)).mod(new BN(101))\n",
    "    e = dec2bin(bin2dec(e) * 2)\n",
    "    console.log(i, 'y',y.toNumber(10), 'sq', e)\n",
    "    if (x=='0') {\n",
    "        return y\n",
    "    } else {\n",
    "        e = dec2bin(bin2dec(e) + 1)\n",
    "        y = y.muln(3).mod(new BN(101))\n",
    "        console.log(i, 'y',y.toNumber(10), 'mul', e)\n",
    "        return y\n",
    "    }\n",
    "})\n",
    "\n",
    "function mod(n, m) {\n",
    "\treturn ((n % m) +m) % m;\n",
    "}\n"
   ]
  },
  {
   "cell_type": "code",
   "execution_count": 18,
   "metadata": {},
   "outputs": [
    {
     "name": "stdout",
     "output_type": "stream",
     "text": [
      "   r0    r1     q    s0    t0\n",
      "    3     2     6     0     1\n",
      "    2     1     1     1    -6\n",
      "    1     0     2    -1     7\n",
      "d 7\n",
      "31\n",
      "4\n",
      "   r0    r1     q    s0    t0\n",
      "    7     6     2     0     1\n",
      "    6     1     1     1    -2\n",
      "    1     0     6    -1     3\n",
      "e 3\n",
      "y 26\n",
      "5\n",
      "   r0    r1     q    s0    t0\n",
      "    3     1    13     0     1\n",
      "    1     0     3     1   -13\n",
      "d 27\n",
      "y 14\n",
      "9\n"
     ]
    }
   ],
   "source": [
    "// 7.3.1\n",
    "p = 3\n",
    "q = 11\n",
    "n = p*q\n",
    "ph = (p-1)*(q-1)\n",
    "e = 3\n",
    "//d = 7 \n",
    "d = gcd.gcd(ph,e)\n",
    "console.log('d',d)\n",
    "x = 4\n",
    "y = Math.pow(x, e)%(n)\n",
    "console.log(y)\n",
    "console.log(Math.pow(y,d)%(n))\n",
    "\n",
    "\n",
    "p = 3\n",
    "q = 11\n",
    "n = p*q\n",
    "ph = (p-1)*(q-1)\n",
    "d = 7 \n",
    "e = gcd.gcd(ph,d)\n",
    "console.log('e',e)\n",
    "x = 5\n",
    "y = Math.pow(x, e)%(n)\n",
    "console.log('y', y)\n",
    "console.log(Math.pow(y,d)%(n))\n",
    "\n",
    "\n",
    "p = 5\n",
    "q = 11\n",
    "n = p*q\n",
    "ph = (p-1)*(q-1)\n",
    "e = 3 \n",
    "x = 9\n",
    "d = mod(gcd.gcd(ph,e),ph)\n",
    "console.log('d',d)\n",
    "y = Math.pow(x, e)%(n)\n",
    "console.log('y',y)\n",
    "y = new BN(y)\n",
    "console.log(y.pow(new BN(d)).mod(new BN(n)).toNumber(10))\n"
   ]
  },
  {
   "cell_type": "code",
   "execution_count": 25,
   "metadata": {},
   "outputs": [
    {
     "name": "stdout",
     "output_type": "stream",
     "text": [
      "2560 13.75\n",
      "10000000000000001\n",
      "1111111111111111\n",
      "1 'y' 25 'sq' '10'\n",
      "2 'y' 19 'sq' '100'\n",
      "3 'y' 58 'sq' '1000'\n",
      "4 'y' 31 'sq' '10000'\n",
      "5 'y' 52 'sq' '100000'\n",
      "6 'y' 78 'sq' '1000000'\n",
      "7 'y' 24 'sq' '10000000'\n",
      "8 'y' 71 'sq' '100000000'\n",
      "9 'y' 92 'sq' '1000000000'\n",
      "10 'y' 81 'sq' '10000000000'\n",
      "11 'y' 97 'sq' '100000000000'\n",
      "12 'y' 16 'sq' '1000000000000'\n",
      "13 'y' 54 'sq' '10000000000000'\n",
      "14 'y' 88 'sq' '100000000000000'\n",
      "15 'y' 68 'sq' '1000000000000000'\n",
      "16 'y' 79 'sq' '10000000000000000'\n",
      "16 'y' 5 'mul' '10000000000000001'\n",
      "1 'y' 25 'sq' '10'\n",
      "1 'y' 17 'mul' '11'\n",
      "2 'y' 87 'sq' '110'\n",
      "2 'y' 0 'mul' '111'\n",
      "3 'y' 0 'sq' '1110'\n",
      "3 'y' 0 'mul' '1111'\n",
      "4 'y' 0 'sq' '11110'\n",
      "4 'y' 0 'mul' '11111'\n",
      "5 'y' 0 'sq' '111110'\n",
      "5 'y' 0 'mul' '111111'\n",
      "6 'y' 0 'sq' '1111110'\n",
      "6 'y' 0 'mul' '1111111'\n",
      "7 'y' 0 'sq' '11111110'\n",
      "7 'y' 0 'mul' '11111111'\n",
      "8 'y' 0 'sq' '111111110'\n",
      "8 'y' 0 'mul' '111111111'\n",
      "9 'y' 0 'sq' '1111111110'\n",
      "9 'y' 0 'mul' '1111111111'\n",
      "10 'y' 0 'sq' '11111111110'\n",
      "10 'y' 0 'mul' '11111111111'\n",
      "11 'y' 0 'sq' '111111111110'\n",
      "11 'y' 0 'mul' '111111111111'\n",
      "12 'y' 0 'sq' '1111111111110'\n",
      "12 'y' 0 'mul' '1111111111111'\n",
      "13 'y' 0 'sq' '11111111111110'\n",
      "13 'y' 0 'mul' '11111111111111'\n",
      "14 'y' 0 'sq' '111111111111110'\n",
      "14 'y' 0 'mul' '111111111111111'\n",
      "15 'y' 0 'sq' '1111111111111110'\n",
      "15 'y' 0 'mul' '1111111111111111'\n"
     ]
    },
    {
     "data": {
      "text/plain": [
       "65535"
      ]
     },
     "execution_count": 25,
     "metadata": {},
     "output_type": "execute_result"
    }
   ],
   "source": [
    "//7.4.1\n",
    "sam1 = 1 * 2048 * .75 + .5 * 2048\n",
    "sam2 = 1 * 17 * .75 + .5 * 2\n",
    "console.log(sam1, sam2)\n",
    "\n",
    "//7.4.2\n",
    "console.log(dec2bin(Math.pow(2,16)+1))\n",
    "console.log(dec2bin(Math.pow(2,16)-1))\n",
    "\n",
    "//7.4.3\n",
    "exp = Math.pow(2,16)+1\n",
    "var a = map.call(dec2bin(exp), (x,i) => {\n",
    "    \n",
    "    if (i==0) {\n",
    "        y = new BN(5)\n",
    "        e = x\n",
    "        return y\n",
    "    }\n",
    "\n",
    "    y = y.pow(new BN(2)).mod(new BN(101))\n",
    "    e = dec2bin(bin2dec(e) * 2)\n",
    "    console.log(i, 'y',y.toNumber(10), 'sq', e)\n",
    "    if (x=='0') {\n",
    "        return y\n",
    "    } else {\n",
    "        e = dec2bin(bin2dec(e) + 1)\n",
    "        y = y.muln(3).mod(new BN(29))\n",
    "        console.log(i, 'y',y.toNumber(10), 'mul', e)\n",
    "        return y\n",
    "    }\n",
    "})\n",
    "\n",
    "exp = Math.pow(2,16)-1\n",
    "var a = map.call(dec2bin(exp), (x,i) => {\n",
    "    \n",
    "    if (i==0) {\n",
    "        y = new BN(5)\n",
    "        e = x\n",
    "        return y\n",
    "    }\n",
    "\n",
    "    y = y.pow(new BN(2)).mod(new BN(101))\n",
    "    e = dec2bin(bin2dec(e) * 2)\n",
    "    console.log(i, 'y',y.toNumber(10), 'sq', e)\n",
    "    if (x=='0') {\n",
    "        return y\n",
    "    } else {\n",
    "        e = dec2bin(bin2dec(e) + 1)\n",
    "        y = y.muln(3).mod(new BN(29))\n",
    "        console.log(i, 'y',y.toNumber(10), 'mul', e)\n",
    "        return y\n",
    "    }\n",
    "})\n",
    "\n"
   ]
  },
  {
   "cell_type": "code",
   "execution_count": 26,
   "metadata": {},
   "outputs": [
    {
     "name": "stdout",
     "output_type": "stream",
     "text": [
      "1 'y' 82 'sq' '10'\n",
      "1 'y' 103 'mul' '11'\n",
      "2 'y' 27 'sq' '110'\n",
      "3 'y' 14 'sq' '1100'\n",
      "4 'y' 53 'sq' '11000'\n",
      "4 'y' 16 'mul' '11001'\n",
      "5 'y' 113 'sq' '110010'\n",
      "5 'y' 53 'mul' '110011'\n",
      "6 'y' 92 'sq' '1100110'\n",
      "6 'y' 133 'mul' '1100111'\n"
     ]
    },
    {
     "data": {
      "text/plain": [
       "103"
      ]
     },
     "execution_count": 26,
     "metadata": {},
     "output_type": "execute_result"
    }
   ],
   "source": [
    "// 7.6\n",
    "exp = 103\n",
    "var a = map.call(dec2bin(exp), (x,i) => {\n",
    "    \n",
    "    if (i==0) {\n",
    "        y = new BN(15)\n",
    "        e = x\n",
    "        return y\n",
    "    }\n",
    "\n",
    "    y = y.pow(new BN(2)).mod(new BN(143))\n",
    "    e = dec2bin(bin2dec(e) * 2)\n",
    "    console.log(i, 'y',y.toNumber(10), 'sq', e)\n",
    "    if (x=='0') {\n",
    "        return y\n",
    "    } else {\n",
    "        e = dec2bin(bin2dec(e) + 1)\n",
    "        y = y.muln(3).mod(new BN(143))\n",
    "        console.log(i, 'y',y.toNumber(10), 'mul', e)\n",
    "        return y\n",
    "    }\n",
    "})\n",
    "\n"
   ]
  },
  {
   "cell_type": "code",
   "execution_count": 10,
   "metadata": {},
   "outputs": [
    {
     "name": "stdout",
     "output_type": "stream",
     "text": [
      "11010\n"
     ]
    }
   ],
   "source": [
    "function dec2bin(number) {\n",
    "    let bin = '';\n",
    "    while(number > 0) {\n",
    "          bin = number%2 + bin;\n",
    "          number = Math.floor(number/2);\n",
    "          }\n",
    "    return bin;\n",
    "}\n",
    "\n",
    "console.log(dec2bin(26))\n"
   ]
  },
  {
   "cell_type": "code",
   "execution_count": null,
   "metadata": {},
   "outputs": [],
   "source": [
    "Math.pow(2,26)"
   ]
  },
  {
   "cell_type": "code",
   "execution_count": 14,
   "metadata": {},
   "outputs": [
    {
     "name": "stdout",
     "output_type": "stream",
     "text": [
      "[ 2, 2, 0, 2, 0 ]\n"
     ]
    }
   ],
   "source": [
    "var map = Array.prototype.map;\n",
    "var a = map.call('11010', function(x) { \n",
    "  return x = x * 2; \n",
    "});\n",
    "console.log(a)"
   ]
  },
  {
   "cell_type": "code",
   "execution_count": null,
   "metadata": {},
   "outputs": [],
   "source": []
  }
 ],
 "metadata": {
  "kernelspec": {
   "display_name": "Javascript (Node.js)",
   "language": "javascript",
   "name": "javascript"
  },
  "language_info": {
   "file_extension": ".js",
   "mimetype": "application/javascript",
   "name": "javascript",
   "version": "10.6.0"
  }
 },
 "nbformat": 4,
 "nbformat_minor": 2
}
