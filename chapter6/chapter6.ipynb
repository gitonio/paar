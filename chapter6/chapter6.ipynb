{
 "cells": [
  {
   "cell_type": "markdown",
   "metadata": {},
   "source": [
    "## Chapter 6<br>\n",
    "\n",
    "### 6.1<br>\n",
    "Symmetric is faster."
   ]
  },
  {
   "cell_type": "markdown",
   "metadata": {},
   "source": [
    "### 6.2<br>\n",
    "\n",
    "1 GByte / 17 Mbit/sec = <br>\n",
    "1 GByte / 100 Kbit/sec = "
   ]
  },
  {
   "cell_type": "code",
   "execution_count": 19,
   "metadata": {},
   "outputs": [
    {
     "name": "stdout",
     "output_type": "stream",
     "text": [
      "7 minutes\n",
      "1333 minutes\n"
     ]
    }
   ],
   "source": [
    "BN = require('bn.js')\n",
    "GByte = new BN(10).pow(new BN(9)).muln(8)\n",
    "console.log(`${GByte.divn(17000000).divn(60).toNumber(10)} minutes`)\n",
    "console.log(`${GByte.divn(100000).divn(60).toNumber(10)} minutes`)"
   ]
  },
  {
   "cell_type": "markdown",
   "metadata": {},
   "source": [
    "### 6.3"
   ]
  },
  {
   "cell_type": "code",
   "execution_count": 17,
   "metadata": {},
   "outputs": [
    {
     "data": {
      "text/plain": [
       "7140"
      ]
     },
     "execution_count": 17,
     "metadata": {},
     "output_type": "execute_result"
    }
   ],
   "source": [
    "\n",
    "emps = 120;\n",
    "(emps * (emps - 1)) / 2"
   ]
  },
  {
   "cell_type": "markdown",
   "metadata": {},
   "source": [
    "### 6.4"
   ]
  },
  {
   "cell_type": "code",
   "execution_count": 27,
   "metadata": {},
   "outputs": [
    {
     "name": "stdout",
     "output_type": "stream",
     "text": [
      "423.9\n",
      "52987.5\n",
      "6.144000000000002\n",
      "49.152000000000015\n"
     ]
    }
   ],
   "source": [
    "console.log(Math.pow(3072/1024,3)*15.7)\n",
    "console.log(Math.pow(15360/1024,3)*15.7)\n",
    "console.log(Math.pow((256/160),3)*1.5)\n",
    "console.log(Math.pow(512/160,3)*1.5)\n",
    "\n",
    "//RSA security bit length increases at a faster clip compared to ECC"
   ]
  },
  {
   "cell_type": "markdown",
   "metadata": {},
   "source": [
    "### 6.5"
   ]
  },
  {
   "cell_type": "code",
   "execution_count": 36,
   "metadata": {},
   "outputs": [
    {
     "name": "stdout",
     "output_type": "stream",
     "text": [
      "7469 2464\n",
      "2464 77\n",
      "77 0\n"
     ]
    }
   ],
   "source": [
    "r0 = 7469; r1 = 2464;\n",
    "console.log(r0, r1);\n",
    "tmp = r1\n",
    "r1 = r0 % r1; \n",
    "r0 = tmp;\n",
    "\n",
    "console.log(r0, r1);\n",
    "tmp = r1\n",
    "r1 = r0 % r1; \n",
    "r0 = tmp;\n",
    "\n",
    "\n",
    "console.log(r0, r1);\n",
    "\n"
   ]
  },
  {
   "cell_type": "code",
   "execution_count": 44,
   "metadata": {},
   "outputs": [
    {
     "name": "stdout",
     "output_type": "stream",
     "text": [
      "4001 2689\n",
      "2689 1312\n",
      "1312 65\n",
      "65 12\n",
      "12 5\n",
      "5 2\n",
      "2 1\n",
      "1 0\n"
     ]
    }
   ],
   "source": [
    "r0 = 4001; r1 = 2689;\n",
    "console.log(r0, r1);\n",
    "\n",
    "tmp = r1\n",
    "r1 = r0 % r1; \n",
    "r0 = tmp;\n",
    "console.log(r0, r1);\n",
    "\n",
    "tmp = r1\n",
    "r1 = r0 % r1; \n",
    "r0 = tmp;\n",
    "console.log(r0, r1);\n",
    "\n",
    "tmp = r1\n",
    "r1 = r0 % r1; \n",
    "r0 = tmp;\n",
    "console.log(r0, r1);\n",
    "\n",
    "tmp = r1\n",
    "r1 = r0 % r1; \n",
    "r0 = tmp;\n",
    "console.log(r0, r1);\n",
    "\n",
    "\n",
    "tmp = r1\n",
    "r1 = r0 % r1; \n",
    "r0 = tmp;\n",
    "console.log(r0, r1);\n",
    "\n",
    "tmp = r1\n",
    "r1 = r0 % r1; \n",
    "r0 = tmp;\n",
    "console.log(r0, r1);\n",
    "\n",
    "tmp = r1\n",
    "r1 = r0 % r1; \n",
    "r0 = tmp;\n",
    "console.log(r0, r1);\n",
    "\n"
   ]
  },
  {
   "cell_type": "code",
   "execution_count": 47,
   "metadata": {},
   "outputs": [
    {
     "name": "stdout",
     "output_type": "stream",
     "text": [
      "77\n",
      "1\n"
     ]
    }
   ],
   "source": [
    "var gcdr = (r0,r1) => r0 % r1 == 0 ? r1 : gcdr(r1, r0 % r1)\n",
    "\n",
    "console.log(gcdr(7469,2464))\n",
    "console.log(gcdr(4001,2689))"
   ]
  },
  {
   "cell_type": "markdown",
   "metadata": {},
   "source": [
    "### 6.6"
   ]
  },
  {
   "cell_type": "code",
   "execution_count": 60,
   "metadata": {},
   "outputs": [
    {
     "name": "stdout",
     "output_type": "stream",
     "text": [
      "   r0    r1     q    s0    t0\n",
      "  198    45     1     0     1\n",
      "   45    18     4     1    -1\n",
      "   18     9     2    -4     5\n",
      "    9     0     2     9   -11\n",
      "9\n",
      "   r0    r1     q    s0    t0\n",
      " 1819  1768     1     0     1\n",
      " 1768    51     1     1    -1\n",
      "   51    34    34    -1     2\n",
      "   34    17     1    35   -69\n",
      "   17     0     2   -36    71\n",
      "17\n"
     ]
    }
   ],
   "source": [
    "function gcde(r0,r1) {\n",
    "    s0 =1, s1 = 0, t0 = 0, t1 = 1\n",
    "    console.log('r0'.padStart(5), 'r1'.padStart(5), 'q'.padStart(5), 's0'.padStart(5), 't0'.padStart(5))\n",
    "    while (r1 != 0) {\n",
    "\n",
    "        temp1 = r1\n",
    "        temp0 = r0\n",
    "        r1 = r0 % r1\n",
    "        r0 = temp1\n",
    "        q = (temp0 - r1) / temp1\n",
    "\n",
    "        temps = s1\n",
    "        s1 = s0 - q * temps\n",
    "        s0 = temps\n",
    "\n",
    "        tempt = t1\n",
    "        t1 = t0 - q * tempt\n",
    "        t0 = tempt\n",
    "        console.log(r0.toString().padStart(5), r1.toString().padStart(5), q.toString().padStart(5), s0.toString().padStart(5), t0.toString().padStart(5))\n",
    "    }\n",
    "    return r0\n",
    "}\n",
    "\n",
    "console.log(gcde(243,198))\n",
    "\n",
    "console.log(gcde(3587,1819))\n",
    "\n"
   ]
  },
  {
   "cell_type": "code",
   "execution_count": 59,
   "metadata": {},
   "outputs": [
    {
     "name": "stdout",
     "output_type": "stream",
     "text": [
      "15\n",
      "   r0    r1     q    s0    t0\n",
      "    7     5     3     0     1\n",
      "    5     2     1     1    -3\n",
      "    2     1     2    -1     4\n",
      "    1     0     2     3   -11\n",
      "1\n",
      "631\n",
      "   r0    r1     q    s0    t0\n",
      "   19    11    52     0     1\n",
      "   11     8     1     1   -52\n",
      "    8     3     1    -1    53\n",
      "    3     2     2     2  -105\n",
      "    2     1     1    -5   263\n",
      "    1     0     2     7  -368\n",
      "1\n"
     ]
    }
   ],
   "source": [
    "a = new BN(7);\n",
    "console.log(a.invm(new BN(26)).toNumber(10))\n",
    "console.log(gcde(26,7))\n",
    "\n",
    "a = new BN(19);\n",
    "console.log(a.invm(new BN(999)).toNumber(10))\n",
    "console.log(gcde(999,19))\n"
   ]
  },
  {
   "cell_type": "code",
   "execution_count": 57,
   "metadata": {},
   "outputs": [
    {
     "name": "stdout",
     "output_type": "stream",
     "text": [
      "   r0    r1     q    s0    t0\n",
      "   12     7     5     0     1\n",
      "    7     5     1     1    -5\n",
      "    5     2     1    -1     6\n",
      "    2     1     2     2   -11\n",
      "    1     0     2    -5    28\n"
     ]
    },
    {
     "data": {
      "text/plain": [
       "1"
      ]
     },
     "execution_count": 57,
     "metadata": {},
     "output_type": "execute_result"
    }
   ],
   "source": [
    "gcde(67,12)"
   ]
  },
  {
   "cell_type": "code",
   "execution_count": 56,
   "metadata": {},
   "outputs": [
    {
     "name": "stdout",
     "output_type": "stream",
     "text": [
      "   r0    r1     q    s0    t0\n",
      "  301    70     3     0     1\n",
      "   70    21     4     1    -3\n",
      "   21     7     3    -4    13\n",
      "    7     0     3    13   -42\n"
     ]
    },
    {
     "data": {
      "text/plain": [
       "7"
      ]
     },
     "execution_count": 56,
     "metadata": {},
     "output_type": "execute_result"
    }
   ],
   "source": [
    "gcde(973,301)"
   ]
  },
  {
   "cell_type": "markdown",
   "metadata": {},
   "source": [
    "### 6.8"
   ]
  },
  {
   "cell_type": "code",
   "execution_count": 74,
   "metadata": {},
   "outputs": [
    {
     "name": "stdout",
     "output_type": "stream",
     "text": [
      "[ 1, 2, 3, 4, 5 ]\n"
     ]
    },
    {
     "data": {
      "text/plain": [
       "[ 1, 2, 3, 2, 1 ]"
      ]
     },
     "execution_count": 74,
     "metadata": {},
     "output_type": "execute_result"
    }
   ],
   "source": [
    "m = 6\n",
    "arr = Array.from({length: m-1}, (x,i) => i + 1);\n",
    "console.log(arr)\n",
    "arr.map(x=> gcdr(m,x))"
   ]
  },
  {
   "cell_type": "code",
   "execution_count": 73,
   "metadata": {},
   "outputs": [
    {
     "data": {
      "text/plain": [
       "[ 1, 1, 1, 1 ]"
      ]
     },
     "execution_count": 73,
     "metadata": {},
     "output_type": "execute_result"
    }
   ],
   "source": [
    "arr = Array.from({length: 4}, (x,i) => i + 1);\n",
    "arr.map(x=> gcdr(5,x))"
   ]
  },
  {
   "cell_type": "code",
   "execution_count": 94,
   "metadata": {},
   "outputs": [
    {
     "name": "stdout",
     "output_type": "stream",
     "text": [
      "[ 1, 2, 3, 4, 5, 6, 7, 8, 9, 10, 11 ]\n",
      "[ 1, 2, 3, 4, 1, 6, 1, 4, 3, 2, 1 ]\n",
      "4\n"
     ]
    }
   ],
   "source": [
    "m = 12\n",
    "arr = Array.from({length: m-1}, (x,i) => i + 1);\n",
    "console.log(arr)\n",
    "iarr = arr.map(x=> gcdr(m,x))\n",
    "console.log(iarr)\n",
    "x = iarr.reduce((acc, val) => (val == 1 ? acc + val:  acc),0)\n",
    "console.log(x)"
   ]
  },
  {
   "cell_type": "code",
   "execution_count": 95,
   "metadata": {},
   "outputs": [
    {
     "name": "stdout",
     "output_type": "stream",
     "text": [
      "[ 1, 2, 3, 4, 5, 6, 7, 8, 9, 10, 11, 12, 13, 14 ]\n",
      "[ 1, 1, 3, 1, 5, 3, 1, 1, 3, 5, 1, 3, 1, 1 ]\n",
      "8\n"
     ]
    }
   ],
   "source": [
    "m = 15\n",
    "arr = Array.from({length: m-1}, (x,i) => i + 1);\n",
    "console.log(arr)\n",
    "iarr = arr.map(x=> gcdr(m,x))\n",
    "console.log(iarr)\n",
    "x = iarr.reduce((acc, val) => (val == 1 ? acc + val:  acc),0)\n",
    "console.log(x)"
   ]
  },
  {
   "cell_type": "code",
   "execution_count": 101,
   "metadata": {},
   "outputs": [
    {
     "name": "stdout",
     "output_type": "stream",
     "text": [
      "[ 1, 2, 1, 2, 1, 2, 1, 2, 1, 2, 1, 2, 13, 2, 1, 2, 1, 2, 1, 2, 1, 2, 1, 2, 1 ]\n",
      "12\n"
     ]
    }
   ],
   "source": [
    "m = 26\n",
    "arr = Array.from({length: m-1}, (x,i) => i + 1);\n",
    "iarr = arr.map(x=> gcdr(m,x))\n",
    "console.log(iarr)\n",
    "x = iarr.reduce((acc, val) => val == 1 ? acc + val:  acc,0)\n",
    "console.log(x)"
   ]
  },
  {
   "cell_type": "markdown",
   "metadata": {},
   "source": [
    "### 6.9<br>\n",
    "1 p - 1\n",
    "2 (p - 1)(q - 1)\n"
   ]
  },
  {
   "cell_type": "markdown",
   "metadata": {},
   "source": [
    "### 6.10<br>"
   ]
  },
  {
   "cell_type": "code",
   "execution_count": 150,
   "metadata": {},
   "outputs": [
    {
     "name": "stdout",
     "output_type": "stream",
     "text": [
      "gcd: 1\n",
      "Fermats little theorem: 2\n",
      "2\n",
      "gcd: 1\n",
      "phi: 4\n",
      "Eulers theorem 5\n",
      "5\n",
      "gcd: 1\n",
      "phi: 12\n",
      "Eulers theorem 1\n",
      "Fermats little theorem: 11\n",
      "11\n"
     ]
    },
    {
     "data": {
      "text/plain": [
       "1"
      ]
     },
     "execution_count": 150,
     "metadata": {},
     "output_type": "execute_result"
    }
   ],
   "source": [
    "console.log('gcd:',gcdr(7,4)) // 1 so we can use Fermat's Little Theorem\n",
    "a = 4; n = 7;\n",
    "console.log('Fermats little theorem:',Math.pow(a, n - 2) % n);\n",
    "console.log((new BN(a).invm(new BN(n))).toNumber(10))\n",
    "\n",
    "prime = 26\n",
    "//displayPhi = Array.from({length: prime}, (x,i) => console.log(`gcd(${i},26)=${gcdr(i,26)}`));\n",
    "Phi = prime => {\n",
    "    rp = Array.from({length: prime}, (x,i) => i)\n",
    "    return (rp.reduce((acc,iter) => (gcdr(iter,prime) === 1? acc+1:acc),0))\n",
    "}\n",
    "//Phi(26)\n",
    "\n",
    "a = 5; n = 12;\n",
    "console.log('gcd:',gcdr(n,a))\n",
    "console.log('phi:', Phi(n))\n",
    "console.log('Eulers theorem', Math.pow(a,Phi(n)-1)%n)\n",
    "console.log((new BN(a).invm(new BN(n))).toNumber(10))\n",
    "\n",
    "\n",
    "a = 6; n = 13;\n",
    "console.log('gcd:',gcdr(n,a))\n",
    "console.log('phi:', Phi(n))\n",
    "console.log('Eulers theorem', Math.pow(a,Phi(n))%n)\n",
    "console.log('Fermats little theorem:',Math.pow(a, n - 2) % n);\n",
    "console.log((new BN(a).invm(new BN(n))).toNumber(10))\n",
    "\n",
    "11 * 6 % 13"
   ]
  },
  {
   "cell_type": "code",
   "execution_count": 136,
   "metadata": {},
   "outputs": [
    {
     "data": {
      "text/plain": [
       "21"
      ]
     },
     "execution_count": 136,
     "metadata": {},
     "output_type": "execute_result"
    }
   ],
   "source": [
    "Math.pow(5,11)%26"
   ]
  },
  {
   "cell_type": "markdown",
   "metadata": {},
   "source": [
    "### 6.11\n"
   ]
  },
  {
   "cell_type": "code",
   "execution_count": 152,
   "metadata": {},
   "outputs": [
    {
     "name": "stdout",
     "output_type": "stream",
     "text": [
      "2\n",
      "gcd(0,6)=6,ET:0\n",
      "gcd(1,6)=1,ET:1\n",
      "gcd(2,6)=2,ET:4\n",
      "gcd(3,6)=3,ET:3\n",
      "gcd(4,6)=2,ET:4\n",
      "gcd(5,6)=1,ET:1\n",
      "6\n",
      "gcd(0,9)=9,ET:0\n",
      "gcd(1,9)=1,ET:1\n",
      "gcd(2,9)=1,ET:1\n",
      "gcd(3,9)=3,ET:0\n",
      "gcd(4,9)=1,ET:1\n",
      "gcd(5,9)=1,ET:1\n",
      "gcd(6,9)=3,ET:0\n",
      "gcd(7,9)=1,ET:1\n",
      "gcd(8,9)=1,ET:1\n"
     ]
    },
    {
     "data": {
      "text/plain": [
       "[ undefined,\n",
       "  undefined,\n",
       "  undefined,\n",
       "  undefined,\n",
       "  undefined,\n",
       "  undefined,\n",
       "  undefined,\n",
       "  undefined,\n",
       "  undefined ]"
      ]
     },
     "execution_count": 152,
     "metadata": {},
     "output_type": "execute_result"
    }
   ],
   "source": [
    "a = 6;\n",
    "console.log(Phi(a))\n",
    "rp = Array.from({length: a}, (x,i) => i)\n",
    "rp.map(i=>{\n",
    "    console.log(`gcd(${i},${a})=${gcdr(i,a)},ET:${Math.pow(i,Phi(a))%a}`)\n",
    "})\n",
    "\n",
    "a = 9;\n",
    "console.log(Phi(a))\n",
    "rp = Array.from({length: a}, (x,i) => i)\n",
    "rp.map(i=>{\n",
    "    console.log(`gcd(${i},${a})=${gcdr(i,a)},ET:${Math.pow(i,Phi(a))%a}`)\n",
    "})\n",
    "\n"
   ]
  },
  {
   "cell_type": "markdown",
   "metadata": {},
   "source": [
    "### 6.12<br>\n",
    "Phi(26) = 12<br>\n",
    "Using Eulers theorem a^(Phi(26)-1) = a^-1 mod 26 = a^11"
   ]
  },
  {
   "cell_type": "code",
   "execution_count": null,
   "metadata": {},
   "outputs": [],
   "source": []
  }
 ],
 "metadata": {
  "kernelspec": {
   "display_name": "Javascript (Node.js)",
   "language": "javascript",
   "name": "javascript"
  },
  "language_info": {
   "file_extension": ".js",
   "mimetype": "application/javascript",
   "name": "javascript",
   "version": "10.6.0"
  }
 },
 "nbformat": 4,
 "nbformat_minor": 2
}
