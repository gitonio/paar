{
 "cells": [
  {
   "cell_type": "markdown",
   "metadata": {},
   "source": [
    "## Chapter 6<br>\n",
    "\n",
    "### 6.1<br>\n",
    "Symmetric is faster."
   ]
  },
  {
   "cell_type": "markdown",
   "metadata": {},
   "source": [
    "### 6.2<br>\n",
    "\n",
    "1 GByte / 17 Mbit/sec = <br>\n",
    "1 GByte / 100 Kbit/sec = "
   ]
  },
  {
   "cell_type": "code",
   "execution_count": 19,
   "metadata": {},
   "outputs": [
    {
     "name": "stdout",
     "output_type": "stream",
     "text": [
      "7 minutes\n",
      "1333 minutes\n"
     ]
    }
   ],
   "source": [
    "BN = require('bn.js')\n",
    "GByte = new BN(10).pow(new BN(9)).muln(8)\n",
    "console.log(`${GByte.divn(17000000).divn(60).toNumber(10)} minutes`)\n",
    "console.log(`${GByte.divn(100000).divn(60).toNumber(10)} minutes`)"
   ]
  },
  {
   "cell_type": "markdown",
   "metadata": {},
   "source": [
    "### 6.3"
   ]
  },
  {
   "cell_type": "code",
   "execution_count": 17,
   "metadata": {},
   "outputs": [
    {
     "data": {
      "text/plain": [
       "7140"
      ]
     },
     "execution_count": 17,
     "metadata": {},
     "output_type": "execute_result"
    }
   ],
   "source": [
    "\n",
    "emps = 120;\n",
    "(emps * (emps - 1)) / 2"
   ]
  },
  {
   "cell_type": "markdown",
   "metadata": {},
   "source": [
    "### 6.4"
   ]
  },
  {
   "cell_type": "code",
   "execution_count": 27,
   "metadata": {},
   "outputs": [
    {
     "name": "stdout",
     "output_type": "stream",
     "text": [
      "423.9\n",
      "52987.5\n",
      "6.144000000000002\n",
      "49.152000000000015\n"
     ]
    }
   ],
   "source": [
    "console.log(Math.pow(3072/1024,3)*15.7)\n",
    "console.log(Math.pow(15360/1024,3)*15.7)\n",
    "console.log(Math.pow((256/160),3)*1.5)\n",
    "console.log(Math.pow(512/160,3)*1.5)\n",
    "\n",
    "//RSA security bit length increases at a faster clip compared to ECC"
   ]
  },
  {
   "cell_type": "code",
   "execution_count": 36,
   "metadata": {},
   "outputs": [
    {
     "name": "stdout",
     "output_type": "stream",
     "text": [
      "7469 2464\n",
      "2464 77\n",
      "77 0\n"
     ]
    }
   ],
   "source": [
    "r0 = 7469; r1 = 2464;\n",
    "console.log(r0, r1);\n",
    "tmp = r1\n",
    "r1 = r0 % r1; \n",
    "r0 = tmp;\n",
    "\n",
    "console.log(r0, r1);\n",
    "tmp = r1\n",
    "r1 = r0 % r1; \n",
    "r0 = tmp;\n",
    "\n",
    "\n",
    "console.log(r0, r1);\n",
    "\n"
   ]
  },
  {
   "cell_type": "code",
   "execution_count": 38,
   "metadata": {},
   "outputs": [
    {
     "name": "stdout",
     "output_type": "stream",
     "text": [
      "4001 2689\n",
      "2689 1312\n",
      "1312 65\n",
      "65 12\n"
     ]
    }
   ],
   "source": [
    "r0 = 4001; r1 = 2689;\n",
    "console.log(r0, r1);\n",
    "tmp = r1\n",
    "r1 = r0 % r1; \n",
    "r0 = tmp;\n",
    "\n",
    "console.log(r0, r1);\n",
    "tmp = r1\n",
    "r1 = r0 % r1; \n",
    "r0 = tmp;\n",
    "\n",
    "\n",
    "console.log(r0, r1);\n",
    "\n",
    "tmp = r1\n",
    "r1 = r0 % r1; \n",
    "r0 = tmp;\n",
    "\n",
    "\n",
    "console.log(r0, r1);\n",
    "\n",
    "r0 = 4001; r1 = 2689;\n",
    "console.log(r0, r1);\n",
    "tmp = r1\n",
    "r1 = r0 % r1; \n",
    "r0 = tmp;\n",
    "\n",
    "console.log(r0, r1);\n",
    "tmp = r1\n",
    "r1 = r0 % r1; \n",
    "r0 = tmp;\n",
    "\n",
    "\n",
    "console.log(r0, r1);\n",
    "\n",
    "tmp = r1\n",
    "r1 = r0 % r1; \n",
    "r0 = tmp;\n",
    "\n",
    "\n",
    "console.log(r0, r1);\n",
    "\n"
   ]
  },
  {
   "cell_type": "code",
   "execution_count": null,
   "metadata": {},
   "outputs": [],
   "source": []
  }
 ],
 "metadata": {
  "kernelspec": {
   "display_name": "Javascript (Node.js)",
   "language": "javascript",
   "name": "javascript"
  },
  "language_info": {
   "file_extension": ".js",
   "mimetype": "application/javascript",
   "name": "javascript",
   "version": "10.6.0"
  }
 },
 "nbformat": 4,
 "nbformat_minor": 2
}
